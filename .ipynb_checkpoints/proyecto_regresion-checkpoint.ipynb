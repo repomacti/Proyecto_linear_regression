{
 "cells": [
  {
   "cell_type": "markdown",
   "id": "a14cc93b-95a9-4e4e-8ee4-2d3887a0cdb7",
   "metadata": {},
   "source": [
    "# Proyecto"
   ]
  },
  {
   "cell_type": "code",
   "execution_count": null,
   "id": "85821041-f4cd-4ba6-bdd7-22f9cb35e835",
   "metadata": {},
   "outputs": [],
   "source": [
    "import pandas as pd\n",
    "import numpy as np\n",
    "import matplotlib.pyplot as plt\n",
    "import macti.vis\n",
    "\n",
    "# Biblioteca que contiene funcionalidades para este proyecto\n",
    "# Cálculo de la media, varianza, covarianza, regresión lineal\n",
    "# Graficación de boxplots, histogramas, datos dispersos.\n",
    "from f_estadisticas import *"
   ]
  },
  {
   "cell_type": "markdown",
   "id": "ac9fcabb-0936-468c-a399-34fb8b991df4",
   "metadata": {},
   "source": [
    "## Revisando los datos de Anscombe"
   ]
  },
  {
   "cell_type": "code",
   "execution_count": null,
   "id": "5707912d-6c65-4f6c-91f9-a9f43f4397a7",
   "metadata": {},
   "outputs": [],
   "source": [
    "# Lectura de datos del archivo\n",
    "datos = pd.read_csv(\"AnscombeQuartet.csv\")\n",
    "\n",
    "# Transformación a arreglos de numpy\n",
    "x1 = np.array(datos.x1)\n",
    "y1 = np.array(datos.y1)\n",
    "x2 = np.array(datos.x2)\n",
    "y2 = np.array(datos.y2)\n",
    "x3 = np.array(datos.x3)\n",
    "y3 = np.array(datos.y3)\n",
    "x4 = np.array(datos.x4)\n",
    "y4 = np.array(datos.y4)\n",
    "\n",
    "print(f\"x1 = {x1}\")\n",
    "print(f\"y1 = {y1}\")\n",
    "print(f\"x2 = {x2}\")\n",
    "print(f\"y2 = {y2}\")\n",
    "print(f\"x3 = {x3}\")\n",
    "print(f\"y3 = {y3}\")\n",
    "print(f\"x4 = {x4}\")\n",
    "print(f\"y4 = {y4}\")"
   ]
  },
  {
   "cell_type": "markdown",
   "id": "bc600de4-2536-4723-92e8-8332ecb5bbbe",
   "metadata": {},
   "source": [
    "### Análsis exploratorio\n",
    "\n",
    "**Valores atípicos**."
   ]
  },
  {
   "cell_type": "code",
   "execution_count": null,
   "id": "84a7c96a-4d01-48a9-a77f-b11fd0fe4a71",
   "metadata": {},
   "outputs": [],
   "source": [
    "# Veamos el conjunto 3 de los datos de Anscombe\n",
    "plot_boxplots(x3, y3)"
   ]
  },
  {
   "cell_type": "markdown",
   "id": "d482b6ae-1558-411a-bfe1-5339cd1a760d",
   "metadata": {},
   "source": [
    "Observamos datos atípicos en $y$.\n",
    "\n",
    "Hagamos la regresión lineal como sigue:"
   ]
  },
  {
   "cell_type": "code",
   "execution_count": null,
   "id": "24f740a8-0989-4fe7-bef7-c724d8307103",
   "metadata": {},
   "outputs": [],
   "source": [
    "B0, B1, R2, xr, yr = reglin(x3, y3)"
   ]
  },
  {
   "cell_type": "markdown",
   "id": "2dcec57e-cb82-4df9-a800-8fb1535cf326",
   "metadata": {},
   "source": [
    "Podemos eliminar los valores atípicos usando el [rango intercuartílico](https://es.wikipedia.org/wiki/Rango_intercuart%C3%ADlico). \n",
    "\n",
    "Los valores que están fuera del rango formado por el primer cuartil (Q1) y el tercer cuartil (Q3) en una distribución, generalmente 1.5 veces el rango intercuartil por encima o por debajo de estos cuartiles, se consideran atípicos:\n",
    "\n",
    "**Algoritmo.**\n",
    "* Calcular: límite inferior = Q1 - 1.5 * IQR. \n",
    "* Calcular: límite superior = Q3 + 1.5 * IQR. \n",
    "* Cualquier valor que sea menor que el límite inferior o mayor que el límite superior se considera un valor atípico.\n",
    "\n",
    "La función `elimina_ouliers()` utiliza este algoritmo para eliminar valores atípicos y se usa en la siguiente celda."
   ]
  },
  {
   "cell_type": "code",
   "execution_count": null,
   "id": "38740769-5314-43a4-99a7-3a6ed56ba17a",
   "metadata": {},
   "outputs": [],
   "source": [
    "x_no, y_no = elimina_outliers(x3, y3, silent=False)"
   ]
  },
  {
   "cell_type": "markdown",
   "id": "c474a915-8405-4f1c-8d75-9b07ad469908",
   "metadata": {},
   "source": [
    "Revisamos el resultado en los boxplots:"
   ]
  },
  {
   "cell_type": "code",
   "execution_count": null,
   "id": "019335fe-5734-414e-8a27-9c9617ad387a",
   "metadata": {},
   "outputs": [],
   "source": [
    "plot_boxplots(x_no, y_no)"
   ]
  },
  {
   "cell_type": "markdown",
   "id": "c546bffb-e264-43ab-8db2-74a09e0a60dc",
   "metadata": {},
   "source": [
    "Realizamos la regresión lineal nuevamente:"
   ]
  },
  {
   "cell_type": "code",
   "execution_count": null,
   "id": "3c53c190-02b6-405e-9454-098d25f521fd",
   "metadata": {},
   "outputs": [],
   "source": [
    "B0, B1, R2, xr, yr = reglin(x_no, y_no)"
   ]
  },
  {
   "cell_type": "markdown",
   "id": "a38dc01c-690c-49bf-9576-374042336b2f",
   "metadata": {},
   "source": [
    "Observa que sin el valor atípico el resultado es *perfecto*."
   ]
  },
  {
   "cell_type": "markdown",
   "id": "6f0a0eaa-3832-44e1-a0a8-c5dc834cc07a",
   "metadata": {},
   "source": [
    "## Datos: Encuesta Nacional de Salud y Nutrición.\n",
    "\n",
    "<div class=\"alert alert-info\">\n",
    "\n",
    "Usaremos un conjunto de datos que proviene de la [Encuesta Nacional de Salud y Nutrición (ENSANUT)](https://ensanut.insp.mx/encuestas/ensanutcontinua2022/descargas.php) y fue integrado y publicado en [Kaggle](https://www.kaggle.com/datasets/frederickfelix/hipertensin-arterial-mxico). Incluye variables biométricas, clínicas y de estilo de vida relevantes para el estudio de enfermedades crónicas como la hipertensión arterial.\n",
    "\n",
    "- **Variables clave**: Se incluyen indicadores como edad, sexo, actividad física total, hemoglobina glucosilada, glucosa promedio, colesterol LDL y HDL, triglicéridos, masa corporal, medida de cintura, presión arterial y riesgo de hipertensión.\n",
    "\n",
    "Los datos se encuentran en el archivo `datos.csv`.\n",
    "\n",
    "</div>"
   ]
  },
  {
   "cell_type": "code",
   "execution_count": null,
   "id": "0a4c6c78-7dd4-4e5c-b35b-64ea9598271c",
   "metadata": {},
   "outputs": [],
   "source": [
    "# Lectura de datos\n",
    "df = pd.read_csv(\"datos.csv\")\n",
    "\n",
    "# Mostrar los primeros renglones de información.\n",
    "df.head()"
   ]
  },
  {
   "cell_type": "code",
   "execution_count": null,
   "id": "00d1d6fc-568c-43ae-bd18-f19984ad09e4",
   "metadata": {},
   "outputs": [],
   "source": [
    "# Mostrar los nombres de las columnas de los datos\n",
    "df.columns"
   ]
  },
  {
   "cell_type": "code",
   "execution_count": null,
   "id": "dd4125e0-6b15-4236-8ff9-273a9ed1069a",
   "metadata": {},
   "outputs": [],
   "source": [
    "# Seleccionamos dos variables y las convertimos a arreglos de numpy\n",
    "x = np.array(df.masa_corporal)\n",
    "y = np.array(df.resultado_glucosa_promedio)"
   ]
  },
  {
   "cell_type": "markdown",
   "id": "3ec51808-016d-4bdf-9d2e-4c3da90d818f",
   "metadata": {},
   "source": [
    "### Análisis exploratorio."
   ]
  },
  {
   "cell_type": "code",
   "execution_count": null,
   "id": "2e002e16-5fd5-4917-8a87-9aea3b120ed5",
   "metadata": {},
   "outputs": [],
   "source": [
    "plot_boxplots(x, y)"
   ]
  },
  {
   "cell_type": "markdown",
   "id": "f4bed26c-321e-4b9e-b90d-bec395f3d94d",
   "metadata": {},
   "source": [
    "### Regresión lineal con todos los datos."
   ]
  },
  {
   "cell_type": "code",
   "execution_count": null,
   "id": "eec1bdc7-db32-46cd-8b11-6b50945f35c1",
   "metadata": {},
   "outputs": [],
   "source": [
    "B0, B1, R2, xr, yr = reglin(x, y, xlabel = \"masa corporal\", ylabel = \"glucosa promedio\")"
   ]
  },
  {
   "cell_type": "markdown",
   "id": "f4eeb546-ebfb-42ce-ad75-987dd02b7ea0",
   "metadata": {},
   "source": [
    "**¿Qué puedes decir de estos resultados?**"
   ]
  },
  {
   "cell_type": "markdown",
   "id": "36401201-6b3a-42eb-8637-4a3eff5a3c5b",
   "metadata": {},
   "source": [
    "### Eliminamos valores atípicos."
   ]
  },
  {
   "cell_type": "code",
   "execution_count": null,
   "id": "9cfe75f5-50b3-49b6-9cbd-e1d9acc7edb2",
   "metadata": {},
   "outputs": [],
   "source": [
    "x_no, y_no = elimina_outliers(x, y, q3=0.85, silent=False)"
   ]
  },
  {
   "cell_type": "code",
   "execution_count": null,
   "id": "cbf4810c-04b0-4b60-8680-d308563a95c9",
   "metadata": {},
   "outputs": [],
   "source": [
    "# Boxplots sin valores atípicos. ¿Qué opinas del resultado?\n",
    "plot_boxplots(x_no, y_no)"
   ]
  },
  {
   "cell_type": "markdown",
   "id": "12fc801c-df90-4d43-92f8-6fb5e84ece41",
   "metadata": {},
   "source": [
    "### Regresión lineal sin valores atípicos."
   ]
  },
  {
   "cell_type": "code",
   "execution_count": null,
   "id": "2a062322-cd3c-47df-a587-85f7d586cc59",
   "metadata": {},
   "outputs": [],
   "source": [
    "B0, B1, R2, xr, yr = reglin(x_no, y_no, xlabel = \"masa corporal\", ylabel = \"glucosa promedio\")"
   ]
  },
  {
   "cell_type": "markdown",
   "id": "e2722ab2-eb03-47c3-98aa-a934fc631f47",
   "metadata": {},
   "source": [
    "**¿Qué opinas de este resultado?** \n",
    "\n",
    "Dibujemos un histograma de los datos de masa corporal."
   ]
  },
  {
   "cell_type": "code",
   "execution_count": null,
   "id": "5ca80305-2894-45e1-a42f-d9ac59785a67",
   "metadata": {},
   "outputs": [],
   "source": [
    "histograma(x, title = \"Masa corporal\")"
   ]
  },
  {
   "cell_type": "markdown",
   "id": "f2ed9ce0-f04a-48de-bfe5-38979b5357c7",
   "metadata": {},
   "source": [
    "La función `elimina_outliers_manual()` elimina valores definiendo un valor mínimo y un valor máximo en los datos. Veamos la siguiente celda:"
   ]
  },
  {
   "cell_type": "code",
   "execution_count": null,
   "id": "b8f785dc-f292-477f-baf0-f512718fbed8",
   "metadata": {},
   "outputs": [],
   "source": [
    "y_no, x_no = elimina_outliers_manual(y, x, vmin=10, vmax=60, silent=False)"
   ]
  },
  {
   "cell_type": "code",
   "execution_count": null,
   "id": "5010bc43-a052-4b97-a2a3-4cb312a88353",
   "metadata": {},
   "outputs": [],
   "source": [
    "histograma(x_no, title = \"Masa corporal\")"
   ]
  },
  {
   "cell_type": "markdown",
   "id": "e9313aa0-8a2a-4e91-aeb7-933210e7e482",
   "metadata": {},
   "source": [
    "**¿Te parece que los datos están mejor ahora?**"
   ]
  },
  {
   "cell_type": "code",
   "execution_count": null,
   "id": "b099c710-40a8-489f-9340-886948b2f1a5",
   "metadata": {},
   "outputs": [],
   "source": [
    "# Veamos los boxplots con estos datos.\n",
    "plot_boxplots(x_no, y_no)"
   ]
  },
  {
   "cell_type": "code",
   "execution_count": null,
   "id": "1b2ee4ea-814c-4a3c-a3f4-a58fd72be5e9",
   "metadata": {},
   "outputs": [],
   "source": [
    "# Regresión lineal con los datos filtrados\n",
    "B0, B1, R2, xr, yr = reglin(x_no, y_no, xlabel = \"masa corporal\", ylabel = \"glucosa promedio\")"
   ]
  },
  {
   "cell_type": "markdown",
   "id": "6eb0c29c-3906-451a-8dff-664b46bdaa7b",
   "metadata": {},
   "source": [
    "**¿Qué opinas de este resultado?**\n",
    "\n",
    "Eliminemos otros datos y revisemos los boxplots y hagamos la regresión lineal."
   ]
  },
  {
   "cell_type": "code",
   "execution_count": null,
   "id": "cd04094d-76c8-4272-b76c-d20f4d311371",
   "metadata": {},
   "outputs": [],
   "source": [
    "x_no, y_no = elimina_outliers_manual(x_no, y_no, vmin=10, vmax=500, silent=False)"
   ]
  },
  {
   "cell_type": "code",
   "execution_count": null,
   "id": "5a9c0a9c-3142-4925-9a4d-fc7a6f1c3ffe",
   "metadata": {},
   "outputs": [],
   "source": [
    "plot_boxplots(x_no, y_no)"
   ]
  },
  {
   "cell_type": "code",
   "execution_count": null,
   "id": "16d51641-7901-4f31-bae5-17828559f6ca",
   "metadata": {},
   "outputs": [],
   "source": [
    "B0, B1, R2, xr, yr = reglin(x_no, y_no, xlabel = \"masa corporal\", ylabel = \"glucosa promedio\")"
   ]
  },
  {
   "cell_type": "markdown",
   "id": "1950404b-bd0c-4cc9-b222-0dc865f46143",
   "metadata": {},
   "source": [
    "¿No es suficiente?.\n",
    "\n",
    "Eliminemos más datos y repitamos el proceso."
   ]
  },
  {
   "cell_type": "code",
   "execution_count": null,
   "id": "c3aa3187-5ba6-422b-9bb4-24f1d32d354a",
   "metadata": {},
   "outputs": [],
   "source": [
    "x_no, y_no = elimina_outliers_manual(x_no, y_no, vmin=10, vmax=150, silent=False)"
   ]
  },
  {
   "cell_type": "code",
   "execution_count": null,
   "id": "f2b21112-3111-4781-8746-2430d9f20800",
   "metadata": {},
   "outputs": [],
   "source": [
    "B0, B1, R2, xr, yr = reglin(x_no, y_no, xlabel = \"masa corporal\", ylabel = \"glucosa promedio\")"
   ]
  },
  {
   "cell_type": "markdown",
   "id": "3bdeb33b-039c-4d28-8fe4-bc7c4e2ea916",
   "metadata": {},
   "source": [
    "**¿Es este un buen resultado?**"
   ]
  },
  {
   "cell_type": "markdown",
   "id": "e6f380bb-d54f-4a98-babd-588fcaa1957e",
   "metadata": {},
   "source": [
    "## Objetivo.\n",
    "\n",
    "Realiza un análisis exploratorio de los datos de la ENSANUT. Elije dos variables que te parezcan interesantes. Explica por que elijiste esas variables. Elimina valores atípicos si lo consideras necesario. Realiza una juste mediante una regresión lineal simple. Explica tus resultados. "
   ]
  },
  {
   "cell_type": "code",
   "execution_count": null,
   "id": "844ce433-e18f-46e8-9a23-6b5c455081c3",
   "metadata": {},
   "outputs": [],
   "source": []
  }
 ],
 "metadata": {
  "kernelspec": {
   "display_name": "Python 3 (ipykernel)",
   "language": "python",
   "name": "python3"
  },
  "language_info": {
   "codemirror_mode": {
    "name": "ipython",
    "version": 3
   },
   "file_extension": ".py",
   "mimetype": "text/x-python",
   "name": "python",
   "nbconvert_exporter": "python",
   "pygments_lexer": "ipython3",
   "version": "3.11.6"
  }
 },
 "nbformat": 4,
 "nbformat_minor": 5
}
